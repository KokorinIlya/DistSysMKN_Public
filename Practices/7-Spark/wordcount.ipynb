{
 "cells": [
  {
   "cell_type": "code",
   "execution_count": 1,
   "id": "55f0bc67",
   "metadata": {},
   "outputs": [],
   "source": [
    "from pyspark.sql import SparkSession"
   ]
  },
  {
   "cell_type": "code",
   "execution_count": 6,
   "id": "61104ea7",
   "metadata": {},
   "outputs": [],
   "source": [
    "spark = SparkSession.builder.appName(\"JüngerAnalysis\").getOrCreate()\n",
    "spark.sparkContext.setLogLevel('WARN')"
   ]
  },
  {
   "cell_type": "code",
   "execution_count": 8,
   "id": "f75790c6",
   "metadata": {},
   "outputs": [],
   "source": [
    "text = spark.read.text(\"waldgang.txt\").rdd"
   ]
  },
  {
   "cell_type": "code",
   "execution_count": 9,
   "id": "57a81235",
   "metadata": {},
   "outputs": [
    {
     "data": {
      "text/plain": [
       "[Row(value='Эрнст Юнгер'),\n",
       " Row(value='Уход в лес'),\n",
       " Row(value='«здесь и сейчас»'),\n",
       " Row(value=''),\n",
       " Row(value='1'),\n",
       " Row(value=''),\n",
       " Row(value='Уход в Лес – отнюдь не идиллия скрывается за этим названием. Напротив, читатель должен быть готов к рискованной прогулке не только по проторённым тропам, но и, быть может, уводящей за пределы исследованного.'),\n",
       " Row(value=''),\n",
       " Row(value='Речь пойдёт о главном вопросе нашего времени, вопросе того рода, что всегда несёт в себе угрозу. Мы задаёмся многими вопросами, также как наши отцы и деды до нас. Между тем, безусловно, значительно изменился смысл того, что называют самим вопросом. Достаточно ли мы осознаём это?'),\n",
       " Row(value='')]"
      ]
     },
     "execution_count": 9,
     "metadata": {},
     "output_type": "execute_result"
    }
   ],
   "source": [
    "text.take(10)"
   ]
  },
  {
   "cell_type": "code",
   "execution_count": 10,
   "id": "d7e42243",
   "metadata": {},
   "outputs": [
    {
     "data": {
      "text/plain": [
       "['Эрнст',\n",
       " 'Юнгер',\n",
       " 'Уход',\n",
       " 'в',\n",
       " 'лес',\n",
       " '«здесь',\n",
       " 'и',\n",
       " 'сейчас»',\n",
       " '1',\n",
       " 'Уход',\n",
       " 'в',\n",
       " 'Лес',\n",
       " '–',\n",
       " 'отнюдь',\n",
       " 'не',\n",
       " 'идиллия',\n",
       " 'скрывается',\n",
       " 'за',\n",
       " 'этим',\n",
       " 'названием.']"
      ]
     },
     "execution_count": 10,
     "metadata": {},
     "output_type": "execute_result"
    }
   ],
   "source": [
    "text = text.flatMap(lambda row: row.value.split())\n",
    "text.take(20)"
   ]
  },
  {
   "cell_type": "code",
   "execution_count": 11,
   "id": "060b242e",
   "metadata": {},
   "outputs": [
    {
     "data": {
      "text/plain": [
       "['эрнст',\n",
       " 'юнгер',\n",
       " 'уход',\n",
       " 'в',\n",
       " 'лес',\n",
       " 'здесь',\n",
       " 'и',\n",
       " 'сейчас',\n",
       " 'уход',\n",
       " 'в',\n",
       " 'лес',\n",
       " 'отнюдь',\n",
       " 'не',\n",
       " 'идиллия',\n",
       " 'скрывается',\n",
       " 'за',\n",
       " 'этим',\n",
       " 'названием',\n",
       " 'напротив',\n",
       " 'читатель']"
      ]
     },
     "execution_count": 11,
     "metadata": {},
     "output_type": "execute_result"
    }
   ],
   "source": [
    "def normalize_string(text):\n",
    "    symbols = []\n",
    "    for s in text:\n",
    "        if s.isalpha():\n",
    "            symbols.append(s.lower())\n",
    "    return ''.join(symbols)\n",
    "\n",
    "text = text.map(normalize_string) \\\n",
    "           .filter(lambda word: word != '')\n",
    "text.take(20)"
   ]
  },
  {
   "cell_type": "code",
   "execution_count": 28,
   "id": "528160ce",
   "metadata": {},
   "outputs": [
    {
     "data": {
      "text/plain": [
       "[('эрнст', ['эрнст']), ('юнгер', ['юнгер']), ('уход', ['уход', 'уход'])]"
      ]
     },
     "execution_count": 28,
     "metadata": {},
     "output_type": "execute_result"
    }
   ],
   "source": [
    "text.groupBy(lambda word: word).mapValues(list).take(3)"
   ]
  },
  {
   "cell_type": "code",
   "execution_count": 32,
   "id": "8c58793f",
   "metadata": {},
   "outputs": [
    {
     "data": {
      "text/plain": [
       "[('в', 63),\n",
       " ('и', 52),\n",
       " ('что', 34),\n",
       " ('не', 30),\n",
       " ('на', 23),\n",
       " ('к', 21),\n",
       " ('мы', 18),\n",
       " ('это', 18),\n",
       " ('как', 16),\n",
       " ('можно', 14),\n",
       " ('но', 13),\n",
       " ('он', 13),\n",
       " ('с', 12),\n",
       " ('если', 12),\n",
       " ('от', 11),\n",
       " ('том', 10),\n",
       " ('всё', 10),\n",
       " ('при', 10),\n",
       " ('же', 10),\n",
       " ('только', 9),\n",
       " ('они', 9),\n",
       " ('то', 9),\n",
       " ('этом', 9),\n",
       " ('так', 9),\n",
       " ('по', 8),\n",
       " ('тем', 8),\n",
       " ('вопросы', 8),\n",
       " ('его', 8),\n",
       " ('бы', 8),\n",
       " ('быть', 7),\n",
       " ('может', 7),\n",
       " ('также', 7),\n",
       " ('из', 7),\n",
       " ('процентов', 7),\n",
       " ('или', 6),\n",
       " ('их', 6),\n",
       " ('этой', 6),\n",
       " ('будет', 6),\n",
       " ('за', 5),\n",
       " ('того', 5),\n",
       " ('скорее', 5),\n",
       " ('ответ', 5),\n",
       " ('избирательный', 5),\n",
       " ('бюллетень', 5),\n",
       " ('для', 5),\n",
       " ('даже', 5),\n",
       " ('выборы', 5),\n",
       " ('о', 4),\n",
       " ('всегда', 4),\n",
       " ('нас', 4)]"
      ]
     },
     "execution_count": 32,
     "metadata": {},
     "output_type": "execute_result"
    }
   ],
   "source": [
    "text.groupBy(lambda word: word) \\\n",
    "    .mapValues(len) \\\n",
    "    .sortBy(lambda row: row[1], ascending=False) \\\n",
    "    .take(50)"
   ]
  },
  {
   "cell_type": "code",
   "execution_count": null,
   "id": "73e8bc9f",
   "metadata": {},
   "outputs": [],
   "source": []
  }
 ],
 "metadata": {
  "kernelspec": {
   "display_name": "Python 3 (ipykernel)",
   "language": "python",
   "name": "python3"
  },
  "language_info": {
   "codemirror_mode": {
    "name": "ipython",
    "version": 3
   },
   "file_extension": ".py",
   "mimetype": "text/x-python",
   "name": "python",
   "nbconvert_exporter": "python",
   "pygments_lexer": "ipython3",
   "version": "3.10.6"
  }
 },
 "nbformat": 4,
 "nbformat_minor": 5
}
