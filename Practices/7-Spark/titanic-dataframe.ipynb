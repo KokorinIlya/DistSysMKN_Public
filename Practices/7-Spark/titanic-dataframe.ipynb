{
 "cells": [
  {
   "cell_type": "code",
   "execution_count": 1,
   "id": "1b69608e",
   "metadata": {},
   "outputs": [],
   "source": [
    "from pyspark.sql import SparkSession\n",
    "import pandas"
   ]
  },
  {
   "cell_type": "code",
   "execution_count": 2,
   "id": "4c05cdde",
   "metadata": {},
   "outputs": [
    {
     "name": "stderr",
     "output_type": "stream",
     "text": [
      "23/12/28 17:19:11 WARN Utils: Your hostname, ikokorin-nb resolves to a loopback address: 127.0.1.1; using 192.168.0.10 instead (on interface wlp0s20f3)\n",
      "23/12/28 17:19:11 WARN Utils: Set SPARK_LOCAL_IP if you need to bind to another address\n",
      "Setting default log level to \"WARN\".\n",
      "To adjust logging level use sc.setLogLevel(newLevel). For SparkR, use setLogLevel(newLevel).\n",
      "23/12/28 17:19:11 WARN NativeCodeLoader: Unable to load native-hadoop library for your platform... using builtin-java classes where applicable\n"
     ]
    }
   ],
   "source": [
    "spark = SparkSession.builder.appName(\"Titanic-Dataframe\").getOrCreate()\n",
    "spark.sparkContext.setLogLevel('WARN')"
   ]
  },
  {
   "cell_type": "code",
   "execution_count": 3,
   "id": "969291e8",
   "metadata": {},
   "outputs": [],
   "source": [
    "data = spark.read.option(\"header\", True).csv('titanic.csv')"
   ]
  },
  {
   "cell_type": "code",
   "execution_count": 4,
   "id": "8df9056a",
   "metadata": {},
   "outputs": [
    {
     "data": {
      "text/plain": [
       "[Row(PassengerId='1', Survived='0', Pclass='3', Name='Braund, Mr. Owen Harris', Sex='male', Age='22', SibSp='1', Parch='0', Ticket='A/5 21171', Fare='7.25', Cabin=None, Embarked='S'),\n",
       " Row(PassengerId='2', Survived='1', Pclass='1', Name='Cumings, Mrs. John Bradley (Florence Briggs Thayer)', Sex='female', Age='38', SibSp='1', Parch='0', Ticket='PC 17599', Fare='71.2833', Cabin='C85', Embarked='C'),\n",
       " Row(PassengerId='3', Survived='1', Pclass='3', Name='Heikkinen, Miss. Laina', Sex='female', Age='26', SibSp='0', Parch='0', Ticket='STON/O2. 3101282', Fare='7.925', Cabin=None, Embarked='S')]"
      ]
     },
     "execution_count": 4,
     "metadata": {},
     "output_type": "execute_result"
    }
   ],
   "source": [
    "data.take(3)"
   ]
  },
  {
   "cell_type": "code",
   "execution_count": 5,
   "id": "36ffa49f",
   "metadata": {},
   "outputs": [
    {
     "data": {
      "text/html": [
       "<div>\n",
       "<style scoped>\n",
       "    .dataframe tbody tr th:only-of-type {\n",
       "        vertical-align: middle;\n",
       "    }\n",
       "\n",
       "    .dataframe tbody tr th {\n",
       "        vertical-align: top;\n",
       "    }\n",
       "\n",
       "    .dataframe thead th {\n",
       "        text-align: right;\n",
       "    }\n",
       "</style>\n",
       "<table border=\"1\" class=\"dataframe\">\n",
       "  <thead>\n",
       "    <tr style=\"text-align: right;\">\n",
       "      <th></th>\n",
       "      <th>PassengerId</th>\n",
       "      <th>Survived</th>\n",
       "      <th>Pclass</th>\n",
       "      <th>Name</th>\n",
       "      <th>Sex</th>\n",
       "      <th>Age</th>\n",
       "      <th>SibSp</th>\n",
       "      <th>Parch</th>\n",
       "      <th>Ticket</th>\n",
       "      <th>Fare</th>\n",
       "      <th>Cabin</th>\n",
       "      <th>Embarked</th>\n",
       "    </tr>\n",
       "  </thead>\n",
       "  <tbody>\n",
       "    <tr>\n",
       "      <th>0</th>\n",
       "      <td>1</td>\n",
       "      <td>0</td>\n",
       "      <td>3</td>\n",
       "      <td>Braund, Mr. Owen Harris</td>\n",
       "      <td>male</td>\n",
       "      <td>22.0</td>\n",
       "      <td>1</td>\n",
       "      <td>0</td>\n",
       "      <td>A/5 21171</td>\n",
       "      <td>7.2500</td>\n",
       "      <td>NaN</td>\n",
       "      <td>S</td>\n",
       "    </tr>\n",
       "    <tr>\n",
       "      <th>1</th>\n",
       "      <td>2</td>\n",
       "      <td>1</td>\n",
       "      <td>1</td>\n",
       "      <td>Cumings, Mrs. John Bradley (Florence Briggs Th...</td>\n",
       "      <td>female</td>\n",
       "      <td>38.0</td>\n",
       "      <td>1</td>\n",
       "      <td>0</td>\n",
       "      <td>PC 17599</td>\n",
       "      <td>71.2833</td>\n",
       "      <td>C85</td>\n",
       "      <td>C</td>\n",
       "    </tr>\n",
       "    <tr>\n",
       "      <th>2</th>\n",
       "      <td>3</td>\n",
       "      <td>1</td>\n",
       "      <td>3</td>\n",
       "      <td>Heikkinen, Miss. Laina</td>\n",
       "      <td>female</td>\n",
       "      <td>26.0</td>\n",
       "      <td>0</td>\n",
       "      <td>0</td>\n",
       "      <td>STON/O2. 3101282</td>\n",
       "      <td>7.9250</td>\n",
       "      <td>NaN</td>\n",
       "      <td>S</td>\n",
       "    </tr>\n",
       "  </tbody>\n",
       "</table>\n",
       "</div>"
      ],
      "text/plain": [
       "   PassengerId  Survived  Pclass  \\\n",
       "0            1         0       3   \n",
       "1            2         1       1   \n",
       "2            3         1       3   \n",
       "\n",
       "                                                Name     Sex   Age  SibSp  \\\n",
       "0                            Braund, Mr. Owen Harris    male  22.0      1   \n",
       "1  Cumings, Mrs. John Bradley (Florence Briggs Th...  female  38.0      1   \n",
       "2                             Heikkinen, Miss. Laina  female  26.0      0   \n",
       "\n",
       "   Parch            Ticket     Fare Cabin Embarked  \n",
       "0      0         A/5 21171   7.2500   NaN        S  \n",
       "1      0          PC 17599  71.2833   C85        C  \n",
       "2      0  STON/O2. 3101282   7.9250   NaN        S  "
      ]
     },
     "execution_count": 5,
     "metadata": {},
     "output_type": "execute_result"
    }
   ],
   "source": [
    "df = pandas.read_csv('titanic.csv')\n",
    "df.head(3)"
   ]
  },
  {
   "cell_type": "markdown",
   "id": "07a7b47b",
   "metadata": {},
   "source": [
    "```sql\n",
    "SELECT Name, Sex, Age\n",
    "FROM Titanic;\n",
    "```"
   ]
  },
  {
   "cell_type": "code",
   "execution_count": 6,
   "id": "baa8165c",
   "metadata": {},
   "outputs": [
    {
     "data": {
      "text/html": [
       "<div>\n",
       "<style scoped>\n",
       "    .dataframe tbody tr th:only-of-type {\n",
       "        vertical-align: middle;\n",
       "    }\n",
       "\n",
       "    .dataframe tbody tr th {\n",
       "        vertical-align: top;\n",
       "    }\n",
       "\n",
       "    .dataframe thead th {\n",
       "        text-align: right;\n",
       "    }\n",
       "</style>\n",
       "<table border=\"1\" class=\"dataframe\">\n",
       "  <thead>\n",
       "    <tr style=\"text-align: right;\">\n",
       "      <th></th>\n",
       "      <th>Name</th>\n",
       "      <th>Sex</th>\n",
       "      <th>Age</th>\n",
       "    </tr>\n",
       "  </thead>\n",
       "  <tbody>\n",
       "    <tr>\n",
       "      <th>0</th>\n",
       "      <td>Braund, Mr. Owen Harris</td>\n",
       "      <td>male</td>\n",
       "      <td>22.0</td>\n",
       "    </tr>\n",
       "    <tr>\n",
       "      <th>1</th>\n",
       "      <td>Cumings, Mrs. John Bradley (Florence Briggs Th...</td>\n",
       "      <td>female</td>\n",
       "      <td>38.0</td>\n",
       "    </tr>\n",
       "    <tr>\n",
       "      <th>2</th>\n",
       "      <td>Heikkinen, Miss. Laina</td>\n",
       "      <td>female</td>\n",
       "      <td>26.0</td>\n",
       "    </tr>\n",
       "    <tr>\n",
       "      <th>3</th>\n",
       "      <td>Futrelle, Mrs. Jacques Heath (Lily May Peel)</td>\n",
       "      <td>female</td>\n",
       "      <td>35.0</td>\n",
       "    </tr>\n",
       "    <tr>\n",
       "      <th>4</th>\n",
       "      <td>Allen, Mr. William Henry</td>\n",
       "      <td>male</td>\n",
       "      <td>35.0</td>\n",
       "    </tr>\n",
       "  </tbody>\n",
       "</table>\n",
       "</div>"
      ],
      "text/plain": [
       "                                                Name     Sex   Age\n",
       "0                            Braund, Mr. Owen Harris    male  22.0\n",
       "1  Cumings, Mrs. John Bradley (Florence Briggs Th...  female  38.0\n",
       "2                             Heikkinen, Miss. Laina  female  26.0\n",
       "3       Futrelle, Mrs. Jacques Heath (Lily May Peel)  female  35.0\n",
       "4                           Allen, Mr. William Henry    male  35.0"
      ]
     },
     "execution_count": 6,
     "metadata": {},
     "output_type": "execute_result"
    }
   ],
   "source": [
    "df[['Name', 'Sex', 'Age']].head(5)"
   ]
  },
  {
   "cell_type": "code",
   "execution_count": 7,
   "id": "84c816f2",
   "metadata": {},
   "outputs": [
    {
     "data": {
      "text/plain": [
       "[Row(Name='Braund, Mr. Owen Harris', Sex='male', Age='22'),\n",
       " Row(Name='Cumings, Mrs. John Bradley (Florence Briggs Thayer)', Sex='female', Age='38'),\n",
       " Row(Name='Heikkinen, Miss. Laina', Sex='female', Age='26'),\n",
       " Row(Name='Futrelle, Mrs. Jacques Heath (Lily May Peel)', Sex='female', Age='35'),\n",
       " Row(Name='Allen, Mr. William Henry', Sex='male', Age='35')]"
      ]
     },
     "execution_count": 7,
     "metadata": {},
     "output_type": "execute_result"
    }
   ],
   "source": [
    "data.select('Name', 'Sex', 'Age').take(5)"
   ]
  },
  {
   "cell_type": "markdown",
   "id": "4b2e2e19",
   "metadata": {},
   "source": [
    "```sql\n",
    "SELECT Name, Sex, Age * 12 AS AgeMonths\n",
    "FROM Titanic;\n",
    "```"
   ]
  },
  {
   "cell_type": "code",
   "execution_count": 8,
   "id": "e096d11f",
   "metadata": {},
   "outputs": [
    {
     "data": {
      "text/html": [
       "<div>\n",
       "<style scoped>\n",
       "    .dataframe tbody tr th:only-of-type {\n",
       "        vertical-align: middle;\n",
       "    }\n",
       "\n",
       "    .dataframe tbody tr th {\n",
       "        vertical-align: top;\n",
       "    }\n",
       "\n",
       "    .dataframe thead th {\n",
       "        text-align: right;\n",
       "    }\n",
       "</style>\n",
       "<table border=\"1\" class=\"dataframe\">\n",
       "  <thead>\n",
       "    <tr style=\"text-align: right;\">\n",
       "      <th></th>\n",
       "      <th>Name</th>\n",
       "      <th>Sex</th>\n",
       "      <th>AgeMonths</th>\n",
       "    </tr>\n",
       "  </thead>\n",
       "  <tbody>\n",
       "    <tr>\n",
       "      <th>0</th>\n",
       "      <td>Braund, Mr. Owen Harris</td>\n",
       "      <td>male</td>\n",
       "      <td>264.0</td>\n",
       "    </tr>\n",
       "    <tr>\n",
       "      <th>1</th>\n",
       "      <td>Cumings, Mrs. John Bradley (Florence Briggs Th...</td>\n",
       "      <td>female</td>\n",
       "      <td>456.0</td>\n",
       "    </tr>\n",
       "    <tr>\n",
       "      <th>2</th>\n",
       "      <td>Heikkinen, Miss. Laina</td>\n",
       "      <td>female</td>\n",
       "      <td>312.0</td>\n",
       "    </tr>\n",
       "    <tr>\n",
       "      <th>3</th>\n",
       "      <td>Futrelle, Mrs. Jacques Heath (Lily May Peel)</td>\n",
       "      <td>female</td>\n",
       "      <td>420.0</td>\n",
       "    </tr>\n",
       "    <tr>\n",
       "      <th>4</th>\n",
       "      <td>Allen, Mr. William Henry</td>\n",
       "      <td>male</td>\n",
       "      <td>420.0</td>\n",
       "    </tr>\n",
       "  </tbody>\n",
       "</table>\n",
       "</div>"
      ],
      "text/plain": [
       "                                                Name     Sex  AgeMonths\n",
       "0                            Braund, Mr. Owen Harris    male      264.0\n",
       "1  Cumings, Mrs. John Bradley (Florence Briggs Th...  female      456.0\n",
       "2                             Heikkinen, Miss. Laina  female      312.0\n",
       "3       Futrelle, Mrs. Jacques Heath (Lily May Peel)  female      420.0\n",
       "4                           Allen, Mr. William Henry    male      420.0"
      ]
     },
     "execution_count": 8,
     "metadata": {},
     "output_type": "execute_result"
    }
   ],
   "source": [
    "df.assign(AgeMonths=df.Age * 12)[['Name', 'Sex', 'AgeMonths']].head(5)"
   ]
  },
  {
   "cell_type": "code",
   "execution_count": 9,
   "id": "b83a1448",
   "metadata": {},
   "outputs": [
    {
     "data": {
      "text/plain": [
       "[Row(Name='Braund, Mr. Owen Harris', Sex='male', AgeMonths=264.0),\n",
       " Row(Name='Cumings, Mrs. John Bradley (Florence Briggs Thayer)', Sex='female', AgeMonths=456.0),\n",
       " Row(Name='Heikkinen, Miss. Laina', Sex='female', AgeMonths=312.0),\n",
       " Row(Name='Futrelle, Mrs. Jacques Heath (Lily May Peel)', Sex='female', AgeMonths=420.0),\n",
       " Row(Name='Allen, Mr. William Henry', Sex='male', AgeMonths=420.0)]"
      ]
     },
     "execution_count": 9,
     "metadata": {},
     "output_type": "execute_result"
    }
   ],
   "source": [
    "data.withColumn('AgeMonths', data.Age * 12).select('Name', 'Sex', 'AgeMonths').take(5)"
   ]
  },
  {
   "cell_type": "markdown",
   "id": "8d260330",
   "metadata": {},
   "source": [
    "```sql\n",
    "SELECT Name, Sex, Age\n",
    "FROM Titanic\n",
    "WHERE Survived;\n",
    "```"
   ]
  },
  {
   "cell_type": "code",
   "execution_count": 10,
   "id": "6aa517ca",
   "metadata": {},
   "outputs": [
    {
     "data": {
      "text/html": [
       "<div>\n",
       "<style scoped>\n",
       "    .dataframe tbody tr th:only-of-type {\n",
       "        vertical-align: middle;\n",
       "    }\n",
       "\n",
       "    .dataframe tbody tr th {\n",
       "        vertical-align: top;\n",
       "    }\n",
       "\n",
       "    .dataframe thead th {\n",
       "        text-align: right;\n",
       "    }\n",
       "</style>\n",
       "<table border=\"1\" class=\"dataframe\">\n",
       "  <thead>\n",
       "    <tr style=\"text-align: right;\">\n",
       "      <th></th>\n",
       "      <th>Name</th>\n",
       "      <th>Sex</th>\n",
       "      <th>Age</th>\n",
       "    </tr>\n",
       "  </thead>\n",
       "  <tbody>\n",
       "    <tr>\n",
       "      <th>1</th>\n",
       "      <td>Cumings, Mrs. John Bradley (Florence Briggs Th...</td>\n",
       "      <td>female</td>\n",
       "      <td>38.0</td>\n",
       "    </tr>\n",
       "    <tr>\n",
       "      <th>2</th>\n",
       "      <td>Heikkinen, Miss. Laina</td>\n",
       "      <td>female</td>\n",
       "      <td>26.0</td>\n",
       "    </tr>\n",
       "    <tr>\n",
       "      <th>3</th>\n",
       "      <td>Futrelle, Mrs. Jacques Heath (Lily May Peel)</td>\n",
       "      <td>female</td>\n",
       "      <td>35.0</td>\n",
       "    </tr>\n",
       "    <tr>\n",
       "      <th>8</th>\n",
       "      <td>Johnson, Mrs. Oscar W (Elisabeth Vilhelmina Berg)</td>\n",
       "      <td>female</td>\n",
       "      <td>27.0</td>\n",
       "    </tr>\n",
       "    <tr>\n",
       "      <th>9</th>\n",
       "      <td>Nasser, Mrs. Nicholas (Adele Achem)</td>\n",
       "      <td>female</td>\n",
       "      <td>14.0</td>\n",
       "    </tr>\n",
       "  </tbody>\n",
       "</table>\n",
       "</div>"
      ],
      "text/plain": [
       "                                                Name     Sex   Age\n",
       "1  Cumings, Mrs. John Bradley (Florence Briggs Th...  female  38.0\n",
       "2                             Heikkinen, Miss. Laina  female  26.0\n",
       "3       Futrelle, Mrs. Jacques Heath (Lily May Peel)  female  35.0\n",
       "8  Johnson, Mrs. Oscar W (Elisabeth Vilhelmina Berg)  female  27.0\n",
       "9                Nasser, Mrs. Nicholas (Adele Achem)  female  14.0"
      ]
     },
     "execution_count": 10,
     "metadata": {},
     "output_type": "execute_result"
    }
   ],
   "source": [
    "df[df.Survived == 1][['Name', 'Sex', 'Age']].head(5)"
   ]
  },
  {
   "cell_type": "code",
   "execution_count": 11,
   "id": "7c146c8a",
   "metadata": {},
   "outputs": [
    {
     "data": {
      "text/plain": [
       "[Row(Name='Cumings, Mrs. John Bradley (Florence Briggs Thayer)', Sex='female', Age='38'),\n",
       " Row(Name='Heikkinen, Miss. Laina', Sex='female', Age='26'),\n",
       " Row(Name='Futrelle, Mrs. Jacques Heath (Lily May Peel)', Sex='female', Age='35'),\n",
       " Row(Name='Johnson, Mrs. Oscar W (Elisabeth Vilhelmina Berg)', Sex='female', Age='27'),\n",
       " Row(Name='Nasser, Mrs. Nicholas (Adele Achem)', Sex='female', Age='14')]"
      ]
     },
     "execution_count": 11,
     "metadata": {},
     "output_type": "execute_result"
    }
   ],
   "source": [
    "data.filter(data.Survived == '1').select('Name', 'Sex', 'Age').take(5)"
   ]
  },
  {
   "cell_type": "markdown",
   "id": "83f2ed6d",
   "metadata": {},
   "source": [
    "```sql\n",
    "SELECT Name, Sex, Age\n",
    "FROM Titanic\n",
    "WHERE (Survived AND Cabin IS NOT NULL) OR Sex = 'female';\n",
    "```"
   ]
  },
  {
   "cell_type": "code",
   "execution_count": 12,
   "id": "87c33179",
   "metadata": {},
   "outputs": [
    {
     "data": {
      "text/html": [
       "<div>\n",
       "<style scoped>\n",
       "    .dataframe tbody tr th:only-of-type {\n",
       "        vertical-align: middle;\n",
       "    }\n",
       "\n",
       "    .dataframe tbody tr th {\n",
       "        vertical-align: top;\n",
       "    }\n",
       "\n",
       "    .dataframe thead th {\n",
       "        text-align: right;\n",
       "    }\n",
       "</style>\n",
       "<table border=\"1\" class=\"dataframe\">\n",
       "  <thead>\n",
       "    <tr style=\"text-align: right;\">\n",
       "      <th></th>\n",
       "      <th>Name</th>\n",
       "      <th>Sex</th>\n",
       "      <th>Age</th>\n",
       "    </tr>\n",
       "  </thead>\n",
       "  <tbody>\n",
       "    <tr>\n",
       "      <th>1</th>\n",
       "      <td>Cumings, Mrs. John Bradley (Florence Briggs Th...</td>\n",
       "      <td>female</td>\n",
       "      <td>38.0</td>\n",
       "    </tr>\n",
       "    <tr>\n",
       "      <th>2</th>\n",
       "      <td>Heikkinen, Miss. Laina</td>\n",
       "      <td>female</td>\n",
       "      <td>26.0</td>\n",
       "    </tr>\n",
       "    <tr>\n",
       "      <th>3</th>\n",
       "      <td>Futrelle, Mrs. Jacques Heath (Lily May Peel)</td>\n",
       "      <td>female</td>\n",
       "      <td>35.0</td>\n",
       "    </tr>\n",
       "    <tr>\n",
       "      <th>8</th>\n",
       "      <td>Johnson, Mrs. Oscar W (Elisabeth Vilhelmina Berg)</td>\n",
       "      <td>female</td>\n",
       "      <td>27.0</td>\n",
       "    </tr>\n",
       "    <tr>\n",
       "      <th>9</th>\n",
       "      <td>Nasser, Mrs. Nicholas (Adele Achem)</td>\n",
       "      <td>female</td>\n",
       "      <td>14.0</td>\n",
       "    </tr>\n",
       "  </tbody>\n",
       "</table>\n",
       "</div>"
      ],
      "text/plain": [
       "                                                Name     Sex   Age\n",
       "1  Cumings, Mrs. John Bradley (Florence Briggs Th...  female  38.0\n",
       "2                             Heikkinen, Miss. Laina  female  26.0\n",
       "3       Futrelle, Mrs. Jacques Heath (Lily May Peel)  female  35.0\n",
       "8  Johnson, Mrs. Oscar W (Elisabeth Vilhelmina Berg)  female  27.0\n",
       "9                Nasser, Mrs. Nicholas (Adele Achem)  female  14.0"
      ]
     },
     "execution_count": 12,
     "metadata": {},
     "output_type": "execute_result"
    }
   ],
   "source": [
    "df[\n",
    "    ((df.Survived == 1) & (~df.Cabin.isna())) | (df.Sex == 'female')\n",
    "][['Name', 'Sex', 'Age']].head(5)"
   ]
  },
  {
   "cell_type": "code",
   "execution_count": 13,
   "id": "72839ec2",
   "metadata": {},
   "outputs": [
    {
     "data": {
      "text/plain": [
       "[Row(Name='Cumings, Mrs. John Bradley (Florence Briggs Thayer)', Sex='female', Age='38'),\n",
       " Row(Name='Heikkinen, Miss. Laina', Sex='female', Age='26'),\n",
       " Row(Name='Futrelle, Mrs. Jacques Heath (Lily May Peel)', Sex='female', Age='35'),\n",
       " Row(Name='Johnson, Mrs. Oscar W (Elisabeth Vilhelmina Berg)', Sex='female', Age='27'),\n",
       " Row(Name='Nasser, Mrs. Nicholas (Adele Achem)', Sex='female', Age='14')]"
      ]
     },
     "execution_count": 13,
     "metadata": {},
     "output_type": "execute_result"
    }
   ],
   "source": [
    "data.filter(\n",
    "    ((data.Survived == '1') & (~data.Cabin.isNull())) | (data.Sex == 'female')\n",
    ").select(['Name', 'Sex', 'Age']).take(5)"
   ]
  },
  {
   "cell_type": "markdown",
   "id": "e6e6a436",
   "metadata": {},
   "source": [
    "```sql\n",
    "SELECT Survived, avg(Age)\n",
    "FROM Titanic\n",
    "GROUP BY Survived\n",
    "```"
   ]
  },
  {
   "cell_type": "code",
   "execution_count": 14,
   "id": "c009a225",
   "metadata": {},
   "outputs": [
    {
     "data": {
      "text/html": [
       "<div>\n",
       "<style scoped>\n",
       "    .dataframe tbody tr th:only-of-type {\n",
       "        vertical-align: middle;\n",
       "    }\n",
       "\n",
       "    .dataframe tbody tr th {\n",
       "        vertical-align: top;\n",
       "    }\n",
       "\n",
       "    .dataframe thead th {\n",
       "        text-align: right;\n",
       "    }\n",
       "</style>\n",
       "<table border=\"1\" class=\"dataframe\">\n",
       "  <thead>\n",
       "    <tr style=\"text-align: right;\">\n",
       "      <th></th>\n",
       "      <th>Age</th>\n",
       "    </tr>\n",
       "    <tr>\n",
       "      <th>Survived</th>\n",
       "      <th></th>\n",
       "    </tr>\n",
       "  </thead>\n",
       "  <tbody>\n",
       "    <tr>\n",
       "      <th>0</th>\n",
       "      <td>30.626179</td>\n",
       "    </tr>\n",
       "    <tr>\n",
       "      <th>1</th>\n",
       "      <td>28.343690</td>\n",
       "    </tr>\n",
       "  </tbody>\n",
       "</table>\n",
       "</div>"
      ],
      "text/plain": [
       "                Age\n",
       "Survived           \n",
       "0         30.626179\n",
       "1         28.343690"
      ]
     },
     "execution_count": 14,
     "metadata": {},
     "output_type": "execute_result"
    }
   ],
   "source": [
    "import numpy\n",
    "df.groupby('Survived').aggregate({'Age': numpy.mean})"
   ]
  },
  {
   "cell_type": "code",
   "execution_count": 15,
   "id": "49f96ef1",
   "metadata": {},
   "outputs": [
    {
     "data": {
      "text/plain": [
       "[Row(Survived='0', avg(Age)=30.62617924528302),\n",
       " Row(Survived='1', avg(Age)=28.343689655172415)]"
      ]
     },
     "execution_count": 15,
     "metadata": {},
     "output_type": "execute_result"
    }
   ],
   "source": [
    "data.groupBy('Survived').agg({'Age': 'avg'}).collect()"
   ]
  },
  {
   "cell_type": "markdown",
   "id": "33270e18",
   "metadata": {},
   "source": [
    "```sql\n",
    "SELECT Name, Sex, Age\n",
    "FROM Titanic\n",
    "WHERE Name LIKE '.*Mrs\\.*';\n",
    "```"
   ]
  },
  {
   "cell_type": "code",
   "execution_count": 16,
   "id": "0916244d",
   "metadata": {},
   "outputs": [
    {
     "data": {
      "text/html": [
       "<div>\n",
       "<style scoped>\n",
       "    .dataframe tbody tr th:only-of-type {\n",
       "        vertical-align: middle;\n",
       "    }\n",
       "\n",
       "    .dataframe tbody tr th {\n",
       "        vertical-align: top;\n",
       "    }\n",
       "\n",
       "    .dataframe thead th {\n",
       "        text-align: right;\n",
       "    }\n",
       "</style>\n",
       "<table border=\"1\" class=\"dataframe\">\n",
       "  <thead>\n",
       "    <tr style=\"text-align: right;\">\n",
       "      <th></th>\n",
       "      <th>Name</th>\n",
       "      <th>Sex</th>\n",
       "      <th>Age</th>\n",
       "    </tr>\n",
       "  </thead>\n",
       "  <tbody>\n",
       "    <tr>\n",
       "      <th>1</th>\n",
       "      <td>Cumings, Mrs. John Bradley (Florence Briggs Th...</td>\n",
       "      <td>female</td>\n",
       "      <td>38.0</td>\n",
       "    </tr>\n",
       "    <tr>\n",
       "      <th>3</th>\n",
       "      <td>Futrelle, Mrs. Jacques Heath (Lily May Peel)</td>\n",
       "      <td>female</td>\n",
       "      <td>35.0</td>\n",
       "    </tr>\n",
       "    <tr>\n",
       "      <th>8</th>\n",
       "      <td>Johnson, Mrs. Oscar W (Elisabeth Vilhelmina Berg)</td>\n",
       "      <td>female</td>\n",
       "      <td>27.0</td>\n",
       "    </tr>\n",
       "    <tr>\n",
       "      <th>9</th>\n",
       "      <td>Nasser, Mrs. Nicholas (Adele Achem)</td>\n",
       "      <td>female</td>\n",
       "      <td>14.0</td>\n",
       "    </tr>\n",
       "    <tr>\n",
       "      <th>15</th>\n",
       "      <td>Hewlett, Mrs. (Mary D Kingcome)</td>\n",
       "      <td>female</td>\n",
       "      <td>55.0</td>\n",
       "    </tr>\n",
       "  </tbody>\n",
       "</table>\n",
       "</div>"
      ],
      "text/plain": [
       "                                                 Name     Sex   Age\n",
       "1   Cumings, Mrs. John Bradley (Florence Briggs Th...  female  38.0\n",
       "3        Futrelle, Mrs. Jacques Heath (Lily May Peel)  female  35.0\n",
       "8   Johnson, Mrs. Oscar W (Elisabeth Vilhelmina Berg)  female  27.0\n",
       "9                 Nasser, Mrs. Nicholas (Adele Achem)  female  14.0\n",
       "15                   Hewlett, Mrs. (Mary D Kingcome)   female  55.0"
      ]
     },
     "execution_count": 16,
     "metadata": {},
     "output_type": "execute_result"
    }
   ],
   "source": [
    "df[df.Name.str.match('.*Mrs\\.*')][['Name', 'Sex', 'Age']].head(5)"
   ]
  },
  {
   "cell_type": "code",
   "execution_count": 17,
   "id": "11ef132a",
   "metadata": {},
   "outputs": [
    {
     "data": {
      "text/plain": [
       "[Row(Name='Cumings, Mrs. John Bradley (Florence Briggs Thayer)', Sex='female', Age='38'),\n",
       " Row(Name='Futrelle, Mrs. Jacques Heath (Lily May Peel)', Sex='female', Age='35'),\n",
       " Row(Name='Johnson, Mrs. Oscar W (Elisabeth Vilhelmina Berg)', Sex='female', Age='27'),\n",
       " Row(Name='Nasser, Mrs. Nicholas (Adele Achem)', Sex='female', Age='14'),\n",
       " Row(Name='Hewlett, Mrs. (Mary D Kingcome) ', Sex='female', Age='55')]"
      ]
     },
     "execution_count": 17,
     "metadata": {},
     "output_type": "execute_result"
    }
   ],
   "source": [
    "data.filter(data.Name.rlike('.*Mrs\\.*')).select(['Name', 'Sex', 'Age']).take(5)"
   ]
  },
  {
   "cell_type": "markdown",
   "id": "995b4807",
   "metadata": {},
   "source": [
    "```sql\n",
    "SELECT Survived, avg(Age)\n",
    "FROM (\n",
    "    SELECT Survived, Age \n",
    "    FROM Titanic \n",
    "    WHERE Name LIKE '.*Mrs\\.*'\n",
    ")\n",
    "GROUP BY Survived;\n",
    "```"
   ]
  },
  {
   "cell_type": "code",
   "execution_count": 18,
   "id": "c7d1fe1a",
   "metadata": {},
   "outputs": [
    {
     "data": {
      "text/html": [
       "<div>\n",
       "<style scoped>\n",
       "    .dataframe tbody tr th:only-of-type {\n",
       "        vertical-align: middle;\n",
       "    }\n",
       "\n",
       "    .dataframe tbody tr th {\n",
       "        vertical-align: top;\n",
       "    }\n",
       "\n",
       "    .dataframe thead th {\n",
       "        text-align: right;\n",
       "    }\n",
       "</style>\n",
       "<table border=\"1\" class=\"dataframe\">\n",
       "  <thead>\n",
       "    <tr style=\"text-align: right;\">\n",
       "      <th></th>\n",
       "      <th>Age</th>\n",
       "    </tr>\n",
       "    <tr>\n",
       "      <th>Survived</th>\n",
       "      <th></th>\n",
       "    </tr>\n",
       "  </thead>\n",
       "  <tbody>\n",
       "    <tr>\n",
       "      <th>0</th>\n",
       "      <td>35.583333</td>\n",
       "    </tr>\n",
       "    <tr>\n",
       "      <th>1</th>\n",
       "      <td>35.659091</td>\n",
       "    </tr>\n",
       "  </tbody>\n",
       "</table>\n",
       "</div>"
      ],
      "text/plain": [
       "                Age\n",
       "Survived           \n",
       "0         35.583333\n",
       "1         35.659091"
      ]
     },
     "execution_count": 18,
     "metadata": {},
     "output_type": "execute_result"
    }
   ],
   "source": [
    "mrs_df = df[df.Name.str.match('.*Mrs\\.*')][['Survived', 'Age']]\n",
    "mrs_df.groupby('Survived').aggregate({'Age': numpy.mean})"
   ]
  },
  {
   "cell_type": "code",
   "execution_count": 19,
   "id": "6d69623d",
   "metadata": {},
   "outputs": [
    {
     "data": {
      "text/plain": [
       "[Row(Survived='0', avg(Age)=35.583333333333336),\n",
       " Row(Survived='1', avg(Age)=35.65909090909091)]"
      ]
     },
     "execution_count": 19,
     "metadata": {},
     "output_type": "execute_result"
    }
   ],
   "source": [
    "mrs_data = data.filter(data.Name.rlike('.*Mrs\\.*')).select(['Survived', 'Age'])\n",
    "mrs_data.groupBy('Survived').agg({'Age': 'avg'}).collect()"
   ]
  },
  {
   "cell_type": "code",
   "execution_count": 20,
   "id": "3cd00909",
   "metadata": {},
   "outputs": [
    {
     "data": {
      "text/plain": [
       "[Row(NamePart='Braund,', Name='Braund, Mr. Owen Harris', Age='22'),\n",
       " Row(NamePart='Mr.', Name='Braund, Mr. Owen Harris', Age='22'),\n",
       " Row(NamePart='Owen', Name='Braund, Mr. Owen Harris', Age='22'),\n",
       " Row(NamePart='Harris', Name='Braund, Mr. Owen Harris', Age='22'),\n",
       " Row(NamePart='Cumings,', Name='Cumings, Mrs. John Bradley (Florence Briggs Thayer)', Age='38'),\n",
       " Row(NamePart='Mrs.', Name='Cumings, Mrs. John Bradley (Florence Briggs Thayer)', Age='38'),\n",
       " Row(NamePart='John', Name='Cumings, Mrs. John Bradley (Florence Briggs Thayer)', Age='38'),\n",
       " Row(NamePart='Bradley', Name='Cumings, Mrs. John Bradley (Florence Briggs Thayer)', Age='38'),\n",
       " Row(NamePart='(Florence', Name='Cumings, Mrs. John Bradley (Florence Briggs Thayer)', Age='38'),\n",
       " Row(NamePart='Briggs', Name='Cumings, Mrs. John Bradley (Florence Briggs Thayer)', Age='38'),\n",
       " Row(NamePart='Thayer)', Name='Cumings, Mrs. John Bradley (Florence Briggs Thayer)', Age='38'),\n",
       " Row(NamePart='Heikkinen,', Name='Heikkinen, Miss. Laina', Age='26'),\n",
       " Row(NamePart='Miss.', Name='Heikkinen, Miss. Laina', Age='26'),\n",
       " Row(NamePart='Laina', Name='Heikkinen, Miss. Laina', Age='26'),\n",
       " Row(NamePart='Futrelle,', Name='Futrelle, Mrs. Jacques Heath (Lily May Peel)', Age='35'),\n",
       " Row(NamePart='Mrs.', Name='Futrelle, Mrs. Jacques Heath (Lily May Peel)', Age='35'),\n",
       " Row(NamePart='Jacques', Name='Futrelle, Mrs. Jacques Heath (Lily May Peel)', Age='35'),\n",
       " Row(NamePart='Heath', Name='Futrelle, Mrs. Jacques Heath (Lily May Peel)', Age='35'),\n",
       " Row(NamePart='(Lily', Name='Futrelle, Mrs. Jacques Heath (Lily May Peel)', Age='35'),\n",
       " Row(NamePart='May', Name='Futrelle, Mrs. Jacques Heath (Lily May Peel)', Age='35')]"
      ]
     },
     "execution_count": 20,
     "metadata": {},
     "output_type": "execute_result"
    }
   ],
   "source": [
    "import pyspark.sql.functions as F\n",
    "\n",
    "data.select(\n",
    "    F.explode(\n",
    "        F.split(data.Name, ' '),\n",
    "    ).alias('NamePart'), 'Name', 'Age'\n",
    ").take(20)"
   ]
  },
  {
   "cell_type": "code",
   "execution_count": 47,
   "id": "b75e883f",
   "metadata": {},
   "outputs": [
    {
     "data": {
      "text/plain": [
       "[Row(NamePart='Braund,', Name='Braund, Mr. Owen Harris', age='22'),\n",
       " Row(NamePart='Mr.', Name='Braund, Mr. Owen Harris', age='22'),\n",
       " Row(NamePart='Owen', Name='Braund, Mr. Owen Harris', age='22'),\n",
       " Row(NamePart='Harris', Name='Braund, Mr. Owen Harris', age='22'),\n",
       " Row(NamePart='Cumings,', Name='Cumings, Mrs. John Bradley (Florence Briggs Thayer)', age='38'),\n",
       " Row(NamePart='Mrs.', Name='Cumings, Mrs. John Bradley (Florence Briggs Thayer)', age='38'),\n",
       " Row(NamePart='John', Name='Cumings, Mrs. John Bradley (Florence Briggs Thayer)', age='38'),\n",
       " Row(NamePart='Bradley', Name='Cumings, Mrs. John Bradley (Florence Briggs Thayer)', age='38'),\n",
       " Row(NamePart='(Florence', Name='Cumings, Mrs. John Bradley (Florence Briggs Thayer)', age='38'),\n",
       " Row(NamePart='Briggs', Name='Cumings, Mrs. John Bradley (Florence Briggs Thayer)', age='38'),\n",
       " Row(NamePart='Thayer)', Name='Cumings, Mrs. John Bradley (Florence Briggs Thayer)', age='38'),\n",
       " Row(NamePart='Heikkinen,', Name='Heikkinen, Miss. Laina', age='26'),\n",
       " Row(NamePart='Miss.', Name='Heikkinen, Miss. Laina', age='26'),\n",
       " Row(NamePart='Laina', Name='Heikkinen, Miss. Laina', age='26'),\n",
       " Row(NamePart='Futrelle,', Name='Futrelle, Mrs. Jacques Heath (Lily May Peel)', age='35'),\n",
       " Row(NamePart='Mrs.', Name='Futrelle, Mrs. Jacques Heath (Lily May Peel)', age='35'),\n",
       " Row(NamePart='Jacques', Name='Futrelle, Mrs. Jacques Heath (Lily May Peel)', age='35'),\n",
       " Row(NamePart='Heath', Name='Futrelle, Mrs. Jacques Heath (Lily May Peel)', age='35'),\n",
       " Row(NamePart='(Lily', Name='Futrelle, Mrs. Jacques Heath (Lily May Peel)', age='35'),\n",
       " Row(NamePart='May', Name='Futrelle, Mrs. Jacques Heath (Lily May Peel)', age='35')]"
      ]
     },
     "execution_count": 47,
     "metadata": {},
     "output_type": "execute_result"
    }
   ],
   "source": [
    "from pyspark.sql.types import Row\n",
    "\n",
    "data.rdd \\\n",
    "    .flatMap(lambda row: [Row(NamePart = part, Name=row.Name, age=row.Age) for part in row.Name.split(' ')]) \\\n",
    "    .toDF().take(20)"
   ]
  },
  {
   "cell_type": "code",
   "execution_count": null,
   "id": "d5e91b06",
   "metadata": {},
   "outputs": [],
   "source": []
  }
 ],
 "metadata": {
  "kernelspec": {
   "display_name": "Python 3 (ipykernel)",
   "language": "python",
   "name": "python3"
  },
  "language_info": {
   "codemirror_mode": {
    "name": "ipython",
    "version": 3
   },
   "file_extension": ".py",
   "mimetype": "text/x-python",
   "name": "python",
   "nbconvert_exporter": "python",
   "pygments_lexer": "ipython3",
   "version": "3.8.10"
  }
 },
 "nbformat": 4,
 "nbformat_minor": 5
}
