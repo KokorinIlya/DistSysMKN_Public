{
 "cells": [
  {
   "cell_type": "code",
   "execution_count": 1,
   "id": "7b992e69",
   "metadata": {},
   "outputs": [],
   "source": [
    "from pyspark.sql import SparkSession"
   ]
  },
  {
   "cell_type": "code",
   "execution_count": 14,
   "id": "f75c9e07",
   "metadata": {},
   "outputs": [],
   "source": [
    "spark = SparkSession.builder.appName(\"Titanic-RDD\").getOrCreate()\n",
    "spark.sparkContext.setLogLevel('WARN')"
   ]
  },
  {
   "cell_type": "code",
   "execution_count": 3,
   "id": "7e5e708e",
   "metadata": {},
   "outputs": [],
   "source": [
    "data = spark.read.option(\"header\", True).csv('titanic.csv').rdd"
   ]
  },
  {
   "cell_type": "code",
   "execution_count": 4,
   "id": "ddd0c884",
   "metadata": {},
   "outputs": [
    {
     "data": {
      "text/plain": [
       "[Row(PassengerId='1', Survived='0', Pclass='3', Name='Braund, Mr. Owen Harris', Sex='male', Age='22', SibSp='1', Parch='0', Ticket='A/5 21171', Fare='7.25', Cabin=None, Embarked='S'),\n",
       " Row(PassengerId='2', Survived='1', Pclass='1', Name='Cumings, Mrs. John Bradley (Florence Briggs Thayer)', Sex='female', Age='38', SibSp='1', Parch='0', Ticket='PC 17599', Fare='71.2833', Cabin='C85', Embarked='C'),\n",
       " Row(PassengerId='3', Survived='1', Pclass='3', Name='Heikkinen, Miss. Laina', Sex='female', Age='26', SibSp='0', Parch='0', Ticket='STON/O2. 3101282', Fare='7.925', Cabin=None, Embarked='S'),\n",
       " Row(PassengerId='4', Survived='1', Pclass='1', Name='Futrelle, Mrs. Jacques Heath (Lily May Peel)', Sex='female', Age='35', SibSp='1', Parch='0', Ticket='113803', Fare='53.1', Cabin='C123', Embarked='S'),\n",
       " Row(PassengerId='5', Survived='0', Pclass='3', Name='Allen, Mr. William Henry', Sex='male', Age='35', SibSp='0', Parch='0', Ticket='373450', Fare='8.05', Cabin=None, Embarked='S')]"
      ]
     },
     "execution_count": 4,
     "metadata": {},
     "output_type": "execute_result"
    }
   ],
   "source": [
    "data.take(5)"
   ]
  },
  {
   "cell_type": "code",
   "execution_count": 5,
   "id": "06ed5c8a",
   "metadata": {},
   "outputs": [
    {
     "data": {
      "text/plain": [
       "[Row(PassengerId='2', Survived='1', Pclass='1', Name='Cumings, Mrs. John Bradley (Florence Briggs Thayer)', Sex='female', Age='38', SibSp='1', Parch='0', Ticket='PC 17599', Fare='71.2833', Cabin='C85', Embarked='C'),\n",
       " Row(PassengerId='3', Survived='1', Pclass='3', Name='Heikkinen, Miss. Laina', Sex='female', Age='26', SibSp='0', Parch='0', Ticket='STON/O2. 3101282', Fare='7.925', Cabin=None, Embarked='S'),\n",
       " Row(PassengerId='4', Survived='1', Pclass='1', Name='Futrelle, Mrs. Jacques Heath (Lily May Peel)', Sex='female', Age='35', SibSp='1', Parch='0', Ticket='113803', Fare='53.1', Cabin='C123', Embarked='S'),\n",
       " Row(PassengerId='9', Survived='1', Pclass='3', Name='Johnson, Mrs. Oscar W (Elisabeth Vilhelmina Berg)', Sex='female', Age='27', SibSp='0', Parch='2', Ticket='347742', Fare='11.1333', Cabin=None, Embarked='S'),\n",
       " Row(PassengerId='10', Survived='1', Pclass='2', Name='Nasser, Mrs. Nicholas (Adele Achem)', Sex='female', Age='14', SibSp='1', Parch='0', Ticket='237736', Fare='30.0708', Cabin=None, Embarked='C')]"
      ]
     },
     "execution_count": 5,
     "metadata": {},
     "output_type": "execute_result"
    }
   ],
   "source": [
    "data.filter(lambda row: row.Survived == '1').take(5)"
   ]
  },
  {
   "cell_type": "code",
   "execution_count": 6,
   "id": "59a52f28",
   "metadata": {},
   "outputs": [],
   "source": [
    "def mean_age(survived):\n",
    "    return data.filter(lambda row: row.Survived == survived) \\\n",
    "            .filter(lambda row: row.Age is not None) \\\n",
    "            .map(lambda row: float(row.Age)).mean()"
   ]
  },
  {
   "cell_type": "code",
   "execution_count": 7,
   "id": "0bbc3483",
   "metadata": {},
   "outputs": [
    {
     "data": {
      "text/plain": [
       "(30.62617924528302, 28.34368965517242)"
      ]
     },
     "execution_count": 7,
     "metadata": {},
     "output_type": "execute_result"
    }
   ],
   "source": [
    "mean_age('0'), mean_age('1')"
   ]
  },
  {
   "cell_type": "code",
   "execution_count": 8,
   "id": "36f29ce0",
   "metadata": {},
   "outputs": [
    {
     "data": {
      "text/plain": [
       "[('0', 30.62617924528302), ('1', 28.343689655172415)]"
      ]
     },
     "execution_count": 8,
     "metadata": {},
     "output_type": "execute_result"
    }
   ],
   "source": [
    "def calc_mean(rows):\n",
    "    cur_sum = 0.\n",
    "    cur_count = 0\n",
    "    for row in rows:\n",
    "        cur_sum += float(row.Age)\n",
    "        cur_count += 1\n",
    "    return cur_sum / cur_count\n",
    "\n",
    "data.filter(lambda row: row.Age is not None) \\\n",
    "    .groupBy(lambda row: row.Survived) \\\n",
    "    .mapValues(calc_mean) \\\n",
    "    .collect()"
   ]
  },
  {
   "cell_type": "code",
   "execution_count": 9,
   "id": "33c6400c",
   "metadata": {},
   "outputs": [
    {
     "data": {
      "text/plain": [
       "[Row(PassengerId='1', Pclass='3', Name='Braund, Mr. Owen Harris', Sex='male', Age='22', SibSp='1', Parch='0', Ticket='A/5 21171', Fare='7.25', Cabin=None, Embarked='S', SurvivedBool=False),\n",
       " Row(PassengerId='2', Pclass='1', Name='Cumings, Mrs. John Bradley (Florence Briggs Thayer)', Sex='female', Age='38', SibSp='1', Parch='0', Ticket='PC 17599', Fare='71.2833', Cabin='C85', Embarked='C', SurvivedBool=True),\n",
       " Row(PassengerId='3', Pclass='3', Name='Heikkinen, Miss. Laina', Sex='female', Age='26', SibSp='0', Parch='0', Ticket='STON/O2. 3101282', Fare='7.925', Cabin=None, Embarked='S', SurvivedBool=True),\n",
       " Row(PassengerId='4', Pclass='1', Name='Futrelle, Mrs. Jacques Heath (Lily May Peel)', Sex='female', Age='35', SibSp='1', Parch='0', Ticket='113803', Fare='53.1', Cabin='C123', Embarked='S', SurvivedBool=True),\n",
       " Row(PassengerId='5', Pclass='3', Name='Allen, Mr. William Henry', Sex='male', Age='35', SibSp='0', Parch='0', Ticket='373450', Fare='8.05', Cabin=None, Embarked='S', SurvivedBool=False)]"
      ]
     },
     "execution_count": 9,
     "metadata": {},
     "output_type": "execute_result"
    }
   ],
   "source": [
    "from pyspark.sql.types import Row\n",
    "\n",
    "def add_column(row):\n",
    "    d = row.asDict()\n",
    "    d['SurvivedBool'] = False if d['Survived'] == '0' else True\n",
    "    del d['Survived']\n",
    "    return Row(**d)\n",
    "\n",
    "data.map(add_column).take(5)"
   ]
  },
  {
   "cell_type": "code",
   "execution_count": 10,
   "id": "e6fcf309",
   "metadata": {},
   "outputs": [],
   "source": [
    "def expand_row(row, column_name, enum_vals):\n",
    "    d = row.asDict()\n",
    "    \n",
    "    for cur_val in enum_vals:\n",
    "        cur_name = f'{column_name}_{cur_val}'\n",
    "        is_eq = d[column_name] == cur_val\n",
    "        d[cur_name] = is_eq\n",
    "    \n",
    "    del d[column_name]\n",
    "    return Row(**d)\n",
    "\n",
    "def expand_enum_column(data, column_name):\n",
    "    enum_vals = data.map(lambda row: row.asDict()[column_name]).distinct().collect()\n",
    "    return data.map(lambda row: expand_row(row, column_name, enum_vals))"
   ]
  },
  {
   "cell_type": "code",
   "execution_count": 11,
   "id": "ed280c94",
   "metadata": {},
   "outputs": [
    {
     "data": {
      "text/plain": [
       "[Row(PassengerId='1', Pclass='3', Name='Braund, Mr. Owen Harris', Sex='male', Age='22', SibSp='1', Parch='0', Ticket='A/5 21171', Fare='7.25', Cabin=None, Embarked='S', Survived_0=True, Survived_1=False),\n",
       " Row(PassengerId='2', Pclass='1', Name='Cumings, Mrs. John Bradley (Florence Briggs Thayer)', Sex='female', Age='38', SibSp='1', Parch='0', Ticket='PC 17599', Fare='71.2833', Cabin='C85', Embarked='C', Survived_0=False, Survived_1=True),\n",
       " Row(PassengerId='3', Pclass='3', Name='Heikkinen, Miss. Laina', Sex='female', Age='26', SibSp='0', Parch='0', Ticket='STON/O2. 3101282', Fare='7.925', Cabin=None, Embarked='S', Survived_0=False, Survived_1=True)]"
      ]
     },
     "execution_count": 11,
     "metadata": {},
     "output_type": "execute_result"
    }
   ],
   "source": [
    "expand_enum_column(data, 'Survived').take(3)"
   ]
  },
  {
   "cell_type": "code",
   "execution_count": 12,
   "id": "179bdd96",
   "metadata": {},
   "outputs": [
    {
     "data": {
      "text/plain": [
       "[Row(PassengerId='1', Name='Braund, Mr. Owen Harris', Sex='male', Age='22', SibSp='1', Parch='0', Ticket='A/5 21171', Fare='7.25', Cabin=None, Embarked='S', Survived_0=True, Survived_1=False, Pclass_3=True, Pclass_1=False, Pclass_2=False),\n",
       " Row(PassengerId='2', Name='Cumings, Mrs. John Bradley (Florence Briggs Thayer)', Sex='female', Age='38', SibSp='1', Parch='0', Ticket='PC 17599', Fare='71.2833', Cabin='C85', Embarked='C', Survived_0=False, Survived_1=True, Pclass_3=False, Pclass_1=True, Pclass_2=False),\n",
       " Row(PassengerId='3', Name='Heikkinen, Miss. Laina', Sex='female', Age='26', SibSp='0', Parch='0', Ticket='STON/O2. 3101282', Fare='7.925', Cabin=None, Embarked='S', Survived_0=False, Survived_1=True, Pclass_3=True, Pclass_1=False, Pclass_2=False)]"
      ]
     },
     "execution_count": 12,
     "metadata": {},
     "output_type": "execute_result"
    }
   ],
   "source": [
    "expand_enum_column(expand_enum_column(data, 'Survived'), 'Pclass').take(3)"
   ]
  },
  {
   "cell_type": "code",
   "execution_count": 13,
   "id": "5be2b14d",
   "metadata": {},
   "outputs": [
    {
     "data": {
      "text/plain": [
       "[Row(PassengerId='2', Survived='1', Pclass='1', Name='Cumings, Mrs. John Bradley (Florence Briggs Thayer)', Sex='female', Age='38', SibSp='1', Parch='0', Ticket='PC 17599', Fare='71.2833', Cabin='C85', PortName='Cherbourg'),\n",
       " Row(PassengerId='10', Survived='1', Pclass='2', Name='Nasser, Mrs. Nicholas (Adele Achem)', Sex='female', Age='14', SibSp='1', Parch='0', Ticket='237736', Fare='30.0708', Cabin=None, PortName='Cherbourg'),\n",
       " Row(PassengerId='20', Survived='1', Pclass='3', Name='Masselmani, Mrs. Fatima', Sex='female', Age=None, SibSp='0', Parch='0', Ticket='2649', Fare='7.225', Cabin=None, PortName='Cherbourg'),\n",
       " Row(PassengerId='27', Survived='0', Pclass='3', Name='Emir, Mr. Farred Chehab', Sex='male', Age=None, SibSp='0', Parch='0', Ticket='2631', Fare='7.225', Cabin=None, PortName='Cherbourg'),\n",
       " Row(PassengerId='31', Survived='0', Pclass='1', Name='Uruchurtu, Don. Manuel E', Sex='male', Age='40', SibSp='0', Parch='0', Ticket='PC 17601', Fare='27.7208', Cabin=None, PortName='Cherbourg')]"
      ]
     },
     "execution_count": 13,
     "metadata": {},
     "output_type": "execute_result"
    }
   ],
   "source": [
    "ports = spark.sparkContext.parallelize([\n",
    "    ('C', {'PortName': 'Cherbourg'}),\n",
    "    ('Q', {'PortName': 'Queenstown'}),\n",
    "    ('S', {'PortName': 'Southampton'})\n",
    "])\n",
    "\n",
    "def prepare_for_join(row):\n",
    "    d = row.asDict()\n",
    "    port = d['Embarked']\n",
    "    del d['Embarked']\n",
    "    return port, d\n",
    "    \n",
    "def process_after_join(row):\n",
    "    passenger = row[0]\n",
    "    port = row[1]\n",
    "    return Row(**dict(passenger, **port))\n",
    "\n",
    "data.map(prepare_for_join).join(ports) \\\n",
    "    .map(lambda kv: process_after_join(kv[1])) \\\n",
    "    .take(5)"
   ]
  },
  {
   "cell_type": "code",
   "execution_count": null,
   "id": "6c3d002a",
   "metadata": {},
   "outputs": [],
   "source": []
  }
 ],
 "metadata": {
  "kernelspec": {
   "display_name": "Python 3 (ipykernel)",
   "language": "python",
   "name": "python3"
  },
  "language_info": {
   "codemirror_mode": {
    "name": "ipython",
    "version": 3
   },
   "file_extension": ".py",
   "mimetype": "text/x-python",
   "name": "python",
   "nbconvert_exporter": "python",
   "pygments_lexer": "ipython3",
   "version": "3.10.6"
  }
 },
 "nbformat": 4,
 "nbformat_minor": 5
}
